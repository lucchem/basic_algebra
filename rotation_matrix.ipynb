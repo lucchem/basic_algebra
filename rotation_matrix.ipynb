{
 "cells": [
  {
   "cell_type": "code",
   "execution_count": 3,
   "metadata": {},
   "outputs": [],
   "source": [
    "import numpy as np"
   ]
  },
  {
   "cell_type": "markdown",
   "metadata": {},
   "source": [
    "# Rotation matrix\n",
    "\n",
    "Build a rotation matrix and rotate a vector. Simple case in 2D. Rotation angle given in degrees. Fix the angle because ``arctan`` is not really the best for vectors in the second quadrant."
   ]
  },
  {
   "cell_type": "code",
   "execution_count": 4,
   "metadata": {},
   "outputs": [],
   "source": [
    "def rotate(t,x):\n",
    "    A=np.array([[np.cos(t/180*np.pi),-np.sin(t/180*np.pi)],[np.sin(t/180*np.pi),np.cos(t/180*np.pi)]])\n",
    "    return A.dot(x)"
   ]
  },
  {
   "cell_type": "code",
   "execution_count": 5,
   "metadata": {},
   "outputs": [
    {
     "name": "stdout",
     "output_type": "stream",
     "text": [
      "initial angle wrt x axis:  0.0\n",
      "angle after 1 rotation(s): 29.999999999999993\n",
      "angle after 2 rotation(s): 59.99999999999999\n",
      "angle after 3 rotation(s): 89.99999999999999\n",
      "angle after 4 rotation(s): -60.00000000000002\n",
      "angle after 5 rotation(s): -30.00000000000003\n",
      "angle after 6 rotation(s): -3.180554681463517e-14\n"
     ]
    }
   ],
   "source": [
    "x = (1,0)\n",
    "print(\"initial angle wrt x axis: \",np.arctan(x[1]/x[0])*180/np.pi)\n",
    "for i in range(1,7):\n",
    "    x=rotate(30,x)\n",
    "    print(\"angle after {} rotation(s): {}\".format(i,np.arctan(x[1]/x[0])*180/np.pi))"
   ]
  }
 ],
 "metadata": {
  "kernelspec": {
   "display_name": "Python 3",
   "language": "python",
   "name": "python3"
  },
  "language_info": {
   "codemirror_mode": {
    "name": "ipython",
    "version": 3
   },
   "file_extension": ".py",
   "mimetype": "text/x-python",
   "name": "python",
   "nbconvert_exporter": "python",
   "pygments_lexer": "ipython3",
   "version": "3.7.4"
  }
 },
 "nbformat": 4,
 "nbformat_minor": 2
}
