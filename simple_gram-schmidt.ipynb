{
 "cells": [
  {
   "cell_type": "code",
   "execution_count": 1,
   "metadata": {},
   "outputs": [],
   "source": [
    "import numpy as np"
   ]
  },
  {
   "cell_type": "markdown",
   "metadata": {},
   "source": [
    "# Gram-Schmidt procedure\n",
    "\n",
    "Want to verify that Gram-Schmidt works. Elementary 3D implementation."
   ]
  },
  {
   "cell_type": "code",
   "execution_count": 2,
   "metadata": {},
   "outputs": [
    {
     "name": "stdout",
     "output_type": "stream",
     "text": [
      "-1.0 1.0 -1.0\n",
      "-1.1102230246251565e-16 0.0 5.551115123125783e-17\n"
     ]
    }
   ],
   "source": [
    "e1=np.array([0.5,0.5,1])\n",
    "e2=np.array([-0.5,0.5,-1])\n",
    "e3=np.array([0,0,1])\n",
    "print(e2.dot(e1),e3.dot(e1),e3.dot(e2))\n",
    "\n",
    "v1=e1\n",
    "v2=e2-e2.dot(v1)/v1.dot(v1)*v1\n",
    "v3=e3-e3.dot(v1)/v1.dot(v1)*v1-e3.dot(v2)/v2.dot(v2)*v2\n",
    "print(v2.dot(v1),v3.dot(v1),v3.dot(v2))"
   ]
  }
 ],
 "metadata": {
  "kernelspec": {
   "display_name": "Python 3",
   "language": "python",
   "name": "python3"
  },
  "language_info": {
   "codemirror_mode": {
    "name": "ipython",
    "version": 3
   },
   "file_extension": ".py",
   "mimetype": "text/x-python",
   "name": "python",
   "nbconvert_exporter": "python",
   "pygments_lexer": "ipython3",
   "version": "3.7.4"
  }
 },
 "nbformat": 4,
 "nbformat_minor": 2
}
